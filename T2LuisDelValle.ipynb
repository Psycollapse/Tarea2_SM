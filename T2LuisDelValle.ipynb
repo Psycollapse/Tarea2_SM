{
 "cells": [
  {
   "cell_type": "markdown",
   "metadata": {},
   "source": [
    "# [Programming language of the year? Python is standout in latest rankings](https://www.zdnet.com/article/programming-language-of-the-year-python-is-standout-in-latest-rankings/)\n",
    "### Python sigue subiendo puntos en el índice de popularidad de Tiobe, casi siempre siendo el primer lenguaje de programación enseñado en las universidades, y al que se recurre para análisis estadísticos, machine learning, scripting, programación web y computación científica. Es también el lenguaje más popular entre los hackers.\n",
    "### Otros lenguajes que van al alza en popularidad incluyen a MATLAB, Kotlin, Rust, Julia y TypeScript.\n",
    "### En cambio, lenguajes como Ruby, Erlang, F# y Alice van en decadencia para estos rankings.\n",
    "#### Los 20 lenguajes de programación más populares en 2019 fueron:\n",
    "+ Java\n",
    "+ C\n",
    "+ Python\n",
    "+ C++\n",
    "+ Visual Basic .NET\n",
    "+ JavaScript\n",
    "+ C#\n",
    "+ PHP\n",
    "+ SQL\n",
    "+ Objective-C\n",
    "+ MATLAB\n",
    "+ R\n",
    "+ Perl\n",
    "+ Assembly language\n",
    "+ Swift\n",
    "+ Go\n",
    "+ Delphi/Object Pascal\n",
    "+ Ruby\n",
    "+ PL/SQL\n",
    "+ Visual Basic\n"
   ]
  }
 ],
 "metadata": {
  "kernelspec": {
   "display_name": "Python 3",
   "language": "python",
   "name": "python3"
  },
  "language_info": {
   "codemirror_mode": {
    "name": "ipython",
    "version": 3
   },
   "file_extension": ".py",
   "mimetype": "text/x-python",
   "name": "python",
   "nbconvert_exporter": "python",
   "pygments_lexer": "ipython3",
   "version": "3.8.3"
  }
 },
 "nbformat": 4,
 "nbformat_minor": 4
}
